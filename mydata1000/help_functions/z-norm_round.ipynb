{
 "cells": [
  {
   "cell_type": "markdown",
   "metadata": {},
   "source": [
    "Where train put test to do for test the same procedure"
   ]
  },
  {
   "cell_type": "code",
   "execution_count": 6,
   "metadata": {},
   "outputs": [
    {
     "name": "stdout",
     "output_type": "stream",
     "text": [
      "Normalized data saved to mydata1000_test_z_norm.csv\n"
     ]
    }
   ],
   "source": [
    "import pandas as pd\n",
    "import numpy as np\n",
    "\n",
    "# Read the CSV file\n",
    "file_path = 'mydata1000_testor.csv'\n",
    "data = pd.read_csv(file_path, header=None)\n",
    "\n",
    "labels = data.iloc[:, 0]\n",
    "time_series_data = data.iloc[:, 1:]\n",
    "\n",
    "\n",
    "mean = time_series_data.mean(axis=1).values\n",
    "std = time_series_data.std(axis=1).values\n",
    "\n",
    "\n",
    "normalized_data = (time_series_data.values - mean[:, None]) / std[:, None]\n",
    "\n",
    "normalized_df = pd.DataFrame(normalized_data, columns=time_series_data.columns)\n",
    "normalized_df.insert(0, 'Class', labels)\n",
    "\n",
    "\n",
    "output_file_path = 'mydata1000_test_z_norm.csv'\n",
    "normalized_df.to_csv(output_file_path, index=False, header= None)\n",
    "\n",
    "print(f\"Normalized data saved to {output_file_path}\")\n"
   ]
  },
  {
   "cell_type": "markdown",
   "metadata": {},
   "source": [
    "Round to 3 decimals"
   ]
  },
  {
   "cell_type": "code",
   "execution_count": 7,
   "metadata": {},
   "outputs": [
    {
     "name": "stdout",
     "output_type": "stream",
     "text": [
      "Data rounded and exported to mydata1000_test.csv.\n"
     ]
    }
   ],
   "source": [
    "import pandas as pd\n",
    "\n",
    "input_file = 'mydata1000_test_z_norm.csv'\n",
    "df = pd.read_csv(input_file,header=None)\n",
    "\n",
    "\n",
    "df_rounded = df.round(3)\n",
    "\n",
    "\n",
    "output_file = 'mydata1000_test.csv'\n",
    "df_rounded.to_csv(output_file, index=False,header=None)\n",
    "\n",
    "print(f\"Data rounded and exported to {output_file}.\")\n"
   ]
  },
  {
   "cell_type": "markdown",
   "metadata": {},
   "source": [
    "Export to final file tht we will use"
   ]
  },
  {
   "cell_type": "code",
   "execution_count": 8,
   "metadata": {},
   "outputs": [],
   "source": [
    "\n",
    "\n",
    "file_path = 'mydata1000_test.csv'\n",
    "data = pd.read_csv(file_path, header=None)\n",
    "\n",
    "\n",
    "labels = data.iloc[:, 0]\n",
    "time_series_data = data.iloc[:, 1:]\n",
    "\n",
    "\n",
    "mean = time_series_data.mean(axis=1)\n",
    "std = time_series_data.std(axis=1)"
   ]
  },
  {
   "cell_type": "markdown",
   "metadata": {},
   "source": [
    "Check if all ok"
   ]
  },
  {
   "cell_type": "code",
   "execution_count": 9,
   "metadata": {},
   "outputs": [
    {
     "data": {
      "text/plain": [
       "0      1.000009\n",
       "1      1.000005\n",
       "2      1.000015\n",
       "3      1.000003\n",
       "4      0.999994\n",
       "         ...   \n",
       "295    0.999975\n",
       "296    1.000003\n",
       "297    1.000012\n",
       "298    1.000003\n",
       "299    1.000000\n",
       "Length: 300, dtype: float64"
      ]
     },
     "execution_count": 9,
     "metadata": {},
     "output_type": "execute_result"
    }
   ],
   "source": [
    "time_series_data.std(axis=1)"
   ]
  },
  {
   "cell_type": "code",
   "execution_count": 10,
   "metadata": {},
   "outputs": [
    {
     "data": {
      "text/plain": [
       "0     -3.003003e-06\n",
       "1      6.006006e-06\n",
       "2     -1.001001e-06\n",
       "3     -6.006006e-06\n",
       "4      9.779742e-18\n",
       "           ...     \n",
       "295    4.004004e-06\n",
       "296    1.801802e-05\n",
       "297   -6.006006e-06\n",
       "298   -6.006006e-06\n",
       "299    1.001001e-06\n",
       "Length: 300, dtype: float64"
      ]
     },
     "execution_count": 10,
     "metadata": {},
     "output_type": "execute_result"
    }
   ],
   "source": [
    "time_series_data.mean(axis=1)"
   ]
  }
 ],
 "metadata": {
  "kernelspec": {
   "display_name": "Python 3",
   "language": "python",
   "name": "python3"
  },
  "language_info": {
   "codemirror_mode": {
    "name": "ipython",
    "version": 3
   },
   "file_extension": ".py",
   "mimetype": "text/x-python",
   "name": "python",
   "nbconvert_exporter": "python",
   "pygments_lexer": "ipython3",
   "version": "3.7.12"
  }
 },
 "nbformat": 4,
 "nbformat_minor": 2
}
